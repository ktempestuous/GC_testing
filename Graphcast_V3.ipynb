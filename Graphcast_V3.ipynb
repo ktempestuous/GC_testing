{
  "cells": [
    {
      "cell_type": "markdown",
      "metadata": {
        "id": "-jAYlxeKxvAJ"
      },
      "source": [
        "# GraphCast\n",
        "\n",
        "This colab lets you run several versions of GraphCast.\n",
        "\n",
        "The model weights, normalization statistics, and example inputs are available on [Google Cloud Bucket](https://console.cloud.google.com/storage/browser/dm_graphcast).\n",
        "\n",
        "A Colab runtime with TPU/GPU acceleration will substantially speed up generating predictions and computing the loss/gradients. If you're using a CPU-only runtime, you can switch using the menu \"Runtime > Change runtime type\"."
      ]
    },
    {
      "cell_type": "markdown",
      "metadata": {
        "id": "IIWlNRupdI2i"
      },
      "source": [
        "> <p><small><small>Copyright 2023 DeepMind Technologies Limited.</small></p>\n",
        "> <p><small><small>Licensed under the Apache License, Version 2.0 (the \"License\"); you may not use this file except in compliance with the License. You may obtain a copy of the License at <a href=\"http://www.apache.org/licenses/LICENSE-2.0\">http://www.apache.org/licenses/LICENSE-2.0</a>.</small></small></p>\n",
        "> <p><small><small>Unless required by applicable law or agreed to in writing, software distributed under the License is distributed on an \"AS IS\" BASIS, WITHOUT WARRANTIES OR CONDITIONS OF ANY KIND, either express or implied. See the License for the specific language governing permissions and limitations under the License.</small></small></p>"
      ]
    },
    {
      "cell_type": "markdown",
      "metadata": {
        "id": "yMbbXFl4msJw"
      },
      "source": [
        "# Installation and Initialization\n"
      ]
    },
    {
      "cell_type": "code",
      "execution_count": null,
      "metadata": {
        "id": "-W4K9skv9vh-",
        "collapsed": true
      },
      "outputs": [],
      "source": [
        "# @title Pip install graphcast and dependencies\n",
        "# Imports edited version. Main additions: saves updated mesh nodes from initialisation, and saves latent features from each mlp\n",
        "%pip install --upgrade https://github.com/ktempestuous/GC_testing/raw/refs/heads/main/Archive_3.zip # version 3\n",
        "!pip install cartopy"
      ]
    },
    {
      "cell_type": "code",
      "execution_count": null,
      "metadata": {
        "id": "MA5087Vb29z2",
        "collapsed": true
      },
      "outputs": [],
      "source": [
        "# @title Workaround for cartopy crashes\n",
        "\n",
        "# Workaround for cartopy crashes due to the shapely installed by default in\n",
        "# google colab kernel (https://github.com/anitagraser/movingpandas/issues/81):\n",
        "!pip uninstall -y shapely\n",
        "!pip install shapely --no-binary shapely"
      ]
    },
    {
      "cell_type": "code",
      "execution_count": null,
      "metadata": {
        "id": "Z_j8ej4Pyg1L"
      },
      "outputs": [],
      "source": [
        "# @title Imports\n",
        "\n",
        "import dataclasses\n",
        "import datetime\n",
        "import functools\n",
        "import math\n",
        "import re\n",
        "from typing import Optional\n",
        "\n",
        "import cartopy.crs as ccrs\n",
        "import cartopy.feature as cfeature\n",
        "from google.cloud import storage\n",
        "from graphcast import autoregressive\n",
        "from graphcast import casting\n",
        "from graphcast import checkpoint\n",
        "from graphcast import data_utils\n",
        "from graphcast import graphcast\n",
        "from graphcast import normalization\n",
        "from graphcast import rollout\n",
        "from graphcast import xarray_jax\n",
        "from graphcast import xarray_tree\n",
        "from IPython.display import HTML\n",
        "import ipywidgets as widgets\n",
        "import haiku as hk\n",
        "import jax\n",
        "import matplotlib\n",
        "import matplotlib.pyplot as plt\n",
        "from matplotlib import animation\n",
        "import numpy as np\n",
        "import xarray\n",
        "import inspect\n",
        "import xarray as xr\n",
        "\n",
        "def parse_file_parts(file_name):\n",
        "  return dict(part.split(\"-\", 1) for part in file_name.split(\"_\"))\n"
      ]
    },
    {
      "cell_type": "code",
      "source": [
        "# @title Ensure latest version of Graphcast from Github is used\n",
        "print(inspect.getsource(graphcast.GraphCast.__call__))"
      ],
      "metadata": {
        "id": "azfEXX05d8fj"
      },
      "execution_count": null,
      "outputs": []
    },
    {
      "cell_type": "code",
      "execution_count": null,
      "metadata": {
        "id": "4wagX1TL_f15"
      },
      "outputs": [],
      "source": [
        "# @title Authenticate with Google Cloud Storage\n",
        "\n",
        "gcs_client = storage.Client.create_anonymous_client() # This creates a Google Cloud Storage client that does not require authentication.\n",
        "gcs_bucket = gcs_client.get_bucket(\"dm_graphcast\") # accessing public GCS data without logging in\n",
        "dir_prefix = \"graphcast/\""
      ]
    },
    {
      "cell_type": "markdown",
      "metadata": {
        "id": "WEtSV8HEkHtf"
      },
      "source": [
        "# Load the Data and initialize the model"
      ]
    },
    {
      "cell_type": "markdown",
      "metadata": {
        "id": "G50ORsY_dI2n"
      },
      "source": [
        "## Load the model params\n",
        "\n",
        "Choose one of the two ways of getting model params:\n",
        "- **random**: You'll get random predictions, but you can change the model architecture, which may run faster or fit on your device.\n",
        "- **checkpoint**: You'll get sensible predictions, but are limited to the model architecture that it was trained with, which may not fit on your device. In particular generating gradients uses a lot of memory, so you'll need at least 25GB of ram (TPUv4 or A100).\n",
        "\n",
        "Checkpoints vary across a few axes:\n",
        "- The mesh size specifies the internal graph representation of the earth. Smaller meshes will run faster but will have worse outputs. The mesh size does not affect the number of parameters of the model.\n",
        "- The resolution and number of pressure levels must match the data. Lower resolution and fewer levels will run a bit faster. Data resolution only affects the encoder/decoder.\n",
        "- All our models predict precipitation. However, ERA5 includes precipitation, while HRES does not. Our models marked as \"ERA5\" take precipitation as input and expect ERA5 data as input, while model marked \"ERA5-HRES\" do not take precipitation as input and are specifically trained to take HRES-fc0 as input (see the data section below).\n",
        "\n",
        "We provide three pre-trained models.\n",
        "1. `GraphCast`, the high-resolution model used in the GraphCast paper (0.25 degree resolution, 37 pressure levels), trained on ERA5 data from 1979 to 2017,\n",
        "\n",
        "2. `GraphCast_small`, a smaller, low-resolution version of GraphCast (1 degree resolution, 13 pressure levels, and a smaller mesh), trained on ERA5 data from 1979 to 2015, useful to run a model with lower memory and compute constraints,\n",
        "\n",
        "3. `GraphCast_operational`, a high-resolution model (0.25 degree resolution, 13 pressure levels) pre-trained on ERA5 data from 1979 to 2017 and fine-tuned on HRES data from 2016 to 2021. This model can be initialized from HRES data (does not require precipitation inputs).\n"
      ]
    },
    {
      "cell_type": "code",
      "execution_count": null,
      "metadata": {
        "id": "KGaJ6V9MdI2n"
      },
      "outputs": [],
      "source": [
        "# @title Choose the model\n",
        "\n",
        "params_file_options = [\n",
        "    name for blob in gcs_bucket.list_blobs(prefix=dir_prefix+\"params/\")\n",
        "    if (name := blob.name.removeprefix(dir_prefix+\"params/\"))]  # Drop empty string.\n",
        "\n",
        "random_mesh_size = widgets.IntSlider(\n",
        "    value=4, min=4, max=6, description=\"Mesh size:\")\n",
        "random_gnn_msg_steps = widgets.IntSlider(\n",
        "    value=4, min=1, max=32, description=\"GNN message steps:\")\n",
        "random_latent_size = widgets.Dropdown(\n",
        "    options=[int(2**i) for i in range(4, 10)], value=32,description=\"Latent size:\")\n",
        "random_levels = widgets.Dropdown(\n",
        "    options=[13, 37], value=13, description=\"Pressure levels:\")\n",
        "\n",
        "\n",
        "params_file = widgets.Dropdown(\n",
        "    options=params_file_options,\n",
        "    description=\"Params file:\",\n",
        "    layout={\"width\": \"max-content\"})\n",
        "\n",
        "source_tab = widgets.Tab([\n",
        "    widgets.VBox([\n",
        "        random_mesh_size,\n",
        "        random_gnn_msg_steps,\n",
        "        random_latent_size,\n",
        "        random_levels,\n",
        "    ]),\n",
        "    params_file,\n",
        "])\n",
        "source_tab.set_title(0, \"Random\")\n",
        "source_tab.set_title(1, \"Checkpoint\")\n",
        "widgets.VBox([\n",
        "    source_tab,\n",
        "    widgets.Label(value=\"Run the next cell to load the model. Rerunning this cell clears your selection.\")\n",
        "])\n"
      ]
    },
    {
      "cell_type": "code",
      "execution_count": null,
      "metadata": {
        "id": "lYQgrPgPdI2n"
      },
      "outputs": [],
      "source": [
        "# @title Load the model\n",
        "\n",
        "source = source_tab.get_title(source_tab.selected_index) # gets previous selection\n",
        "\n",
        "if source == \"Random\":\n",
        "  params = None  # Filled in below # No pretrained parameters; this will be a randomly initialized model.\n",
        "  state = {} # empty model state\n",
        "  model_config = graphcast.ModelConfig(\n",
        "      resolution=0,\n",
        "      mesh_size=random_mesh_size.value,\n",
        "      latent_size=random_latent_size.value,\n",
        "      gnn_msg_steps=random_gnn_msg_steps.value,\n",
        "      hidden_layers=1,\n",
        "      radius_query_fraction_edge_length=0.6)\n",
        "  task_config = graphcast.TaskConfig(\n",
        "      input_variables=graphcast.TASK.input_variables,\n",
        "      target_variables=graphcast.TASK.target_variables,\n",
        "      forcing_variables=graphcast.TASK.forcing_variables,\n",
        "      pressure_levels=graphcast.PRESSURE_LEVELS[random_levels.value],\n",
        "      input_duration=graphcast.TASK.input_duration,\n",
        "  )\n",
        "else:\n",
        "  assert source == \"Checkpoint\"\n",
        "  with gcs_bucket.blob(f\"{dir_prefix}params/{params_file.value}\").open(\"rb\") as f:\n",
        "    ckpt = checkpoint.load(f, graphcast.CheckPoint)\n",
        "  params = ckpt.params # ckpt is an instance of the class graphcast.CheckPoint\n",
        "  state = {}\n",
        "\n",
        "  model_config = ckpt.model_config\n",
        "  task_config = ckpt.task_config\n",
        "  print(\"Model description:\\n\", ckpt.description, \"\\n\")\n",
        "  print(\"Model license:\\n\", ckpt.license, \"\\n\")\n",
        "\n",
        "print(model_config)\n",
        "print(task_config)"
      ]
    },
    {
      "cell_type": "markdown",
      "metadata": {
        "id": "rQWk0RRuCjDN"
      },
      "source": [
        "## Load the example data\n",
        "\n",
        "Several example datasets are available, varying across a few axes:\n",
        "- **Source**: fake, era5, hres\n",
        "- **Resolution**: 0.25deg, 1deg, 6deg\n",
        "- **Levels**: 13, 37\n",
        "- **Steps**: How many timesteps are included\n",
        "\n",
        "Not all combinations are available.\n",
        "- Higher resolution is only available for fewer steps due to the memory requirements of loading them.\n",
        "- HRES is only available in 0.25 deg, with 13 pressure levels.\n",
        "\n",
        "The data resolution must match the model that is loaded.\n",
        "\n",
        "Some transformations were done from the base datasets:\n",
        "- We accumulated precipitation over 6 hours instead of the default 1 hour.\n",
        "- For HRES data, each time step corresponds to the HRES forecast at leadtime 0, essentially providing an \"initialisation\" from HRES. See HRES-fc0 in the GraphCast paper for further description. Note that a 6h accumulation of precipitation is not available from HRES, so our model taking HRES inputs does not depend on precipitation. However, because our models predict precipitation, we include the ERA5 precipitation in the example data so it can serve as an illustrative example of ground truth.\n",
        "- We include ERA5 `toa_incident_solar_radiation` in the data. Our model uses the radiation at -6h, 0h and +6h as a forcing term for each 1-step prediction. If the radiation is missing from the data (e.g. in an operational setting), it will be computed using a custom implementation that produces values similar to those in ERA5."
      ]
    },
    {
      "cell_type": "code",
      "execution_count": null,
      "metadata": {
        "id": "-DJzie5me2-H"
      },
      "outputs": [],
      "source": [
        "# @title Get and filter the list of available example datasets\n",
        "\n",
        "dataset_file_options = [\n",
        "    name for blob in gcs_bucket.list_blobs(prefix=dir_prefix+\"dataset/\")\n",
        "    if (name := blob.name.removeprefix(dir_prefix+\"dataset/\"))]  # Drop empty string.\n",
        "\n",
        "def data_valid_for_model(\n",
        "    file_name: str, model_config: graphcast.ModelConfig, task_config: graphcast.TaskConfig):\n",
        "  file_parts = parse_file_parts(file_name.removesuffix(\".nc\"))\n",
        "  return (\n",
        "      model_config.resolution in (0, float(file_parts[\"res\"])) and\n",
        "      len(task_config.pressure_levels) == int(file_parts[\"levels\"]) and\n",
        "      (\n",
        "          (\"total_precipitation_6hr\" in task_config.input_variables and\n",
        "           file_parts[\"source\"] in (\"era5\", \"fake\")) or\n",
        "          (\"total_precipitation_6hr\" not in task_config.input_variables and\n",
        "           file_parts[\"source\"] in (\"hres\", \"fake\"))\n",
        "      )\n",
        "  )\n",
        "\n",
        "\n",
        "dataset_file = widgets.Dropdown(\n",
        "    options=[\n",
        "        (\", \".join([f\"{k}: {v}\" for k, v in parse_file_parts(option.removesuffix(\".nc\")).items()]), option)\n",
        "        for option in dataset_file_options\n",
        "        if data_valid_for_model(option, model_config, task_config)\n",
        "    ],\n",
        "    description=\"Dataset file:\",\n",
        "    layout={\"width\": \"max-content\"})\n",
        "widgets.VBox([\n",
        "    dataset_file,\n",
        "    widgets.Label(value=\"Run the next cell to load the dataset. Rerunning this cell clears your selection and refilters the datasets that match your model.\")\n",
        "])"
      ]
    },
    {
      "cell_type": "code",
      "execution_count": null,
      "metadata": {
        "id": "Yz-ekISoJxeZ"
      },
      "outputs": [],
      "source": [
        "# @title Load weather data\n",
        "\n",
        "if not data_valid_for_model(dataset_file.value, model_config, task_config):\n",
        "  raise ValueError(\n",
        "      \"Invalid dataset file, rerun the cell above and choose a valid dataset file.\")\n",
        "\n",
        "with gcs_bucket.blob(f\"{dir_prefix}dataset/{dataset_file.value}\").open(\"rb\") as f:\n",
        "  example_batch = xarray.load_dataset(f).compute()\n",
        "\n",
        "assert example_batch.dims[\"time\"] >= 3  # 2 for input, >=1 for targets\n",
        "\n",
        "print(\", \".join([f\"{k}: {v}\" for k, v in parse_file_parts(dataset_file.value.removesuffix(\".nc\")).items()]))\n",
        "\n",
        "example_batch"
      ]
    },
    {
      "cell_type": "code",
      "execution_count": null,
      "metadata": {
        "id": "tPVy1GHokHtk"
      },
      "outputs": [],
      "source": [
        "# @title Choose training and eval data to extract\n",
        "train_steps = widgets.IntSlider(\n",
        "    value=1, min=1, max=example_batch.sizes[\"time\"]-2, description=\"Train steps\")\n",
        "eval_steps = widgets.IntSlider(\n",
        "    value=example_batch.sizes[\"time\"]-2, min=1, max=example_batch.sizes[\"time\"]-2, description=\"Eval steps\")\n",
        "\n",
        "widgets.VBox([\n",
        "    train_steps,\n",
        "    eval_steps,\n",
        "    widgets.Label(value=\"Run the next cell to extract the data. Rerunning this cell clears your selection.\")\n",
        "])"
      ]
    },
    {
      "cell_type": "code",
      "execution_count": null,
      "metadata": {
        "id": "Ogp4vTBvsgSt"
      },
      "outputs": [],
      "source": [
        "# @title Extract training and eval data\n",
        "\n",
        "train_inputs, train_targets, train_forcings = data_utils.extract_inputs_targets_forcings(\n",
        "    example_batch, target_lead_times=slice(\"6h\", f\"{train_steps.value*6}h\"),\n",
        "    **dataclasses.asdict(task_config))\n",
        "\n",
        "eval_inputs, eval_targets, eval_forcings = data_utils.extract_inputs_targets_forcings(\n",
        "    example_batch, target_lead_times=slice(\"6h\", f\"{eval_steps.value*6}h\"),\n",
        "    **dataclasses.asdict(task_config))\n",
        "\n",
        "print(\"All Examples:  \", example_batch.dims.mapping)\n",
        "print(\"Train Inputs:  \", train_inputs.dims.mapping)\n",
        "print(\"Train Targets: \", train_targets.dims.mapping)\n",
        "print(\"Train Forcings:\", train_forcings.dims.mapping)\n",
        "print(\"Eval Inputs:   \", eval_inputs.dims.mapping)\n",
        "print(\"Eval Targets:  \", eval_targets.dims.mapping)\n",
        "print(\"Eval Forcings: \", eval_forcings.dims.mapping)\n"
      ]
    },
    {
      "cell_type": "code",
      "execution_count": null,
      "metadata": {
        "id": "Q--ZRhpTdI2o"
      },
      "outputs": [],
      "source": [
        "# @title Load normalization data\n",
        "\n",
        "with gcs_bucket.blob(dir_prefix+\"stats/diffs_stddev_by_level.nc\").open(\"rb\") as f:\n",
        "  diffs_stddev_by_level = xarray.load_dataset(f).compute() # Standard deviation of differences between consecutive timesteps. Often used for loss weighting or forecast uncertainty calibration.\n",
        "  # For example, if a variable has small changes between timesteps, it might be given more weight in the loss function.\n",
        "with gcs_bucket.blob(dir_prefix+\"stats/mean_by_level.nc\").open(\"rb\") as f:\n",
        "  mean_by_level = xarray.load_dataset(f).compute() # Mean values of each weather variable at each pressure level. Used to normalize input and output variables before feeding them to the model.\n",
        "with gcs_bucket.blob(dir_prefix+\"stats/stddev_by_level.nc\").open(\"rb\") as f:\n",
        "  stddev_by_level = xarray.load_dataset(f).compute() # Standard deviation of each variable at each pressure level. Used together with the mean for normalization."
      ]
    },
    {
      "cell_type": "markdown",
      "metadata": {
        "id": "VBNutliiCyqA"
      },
      "source": [
        "# Run the model\n",
        "\n",
        "Note that the cell below may take a while (possibly minutes) to run the first time you execute them, because this will include the time it takes for the code to compile. The second time running will be significantly faster.\n",
        "\n",
        "This uses the python loop to iterate over prediction steps, where the 1-step prediction is jitted. This has lower memory requirements than the training steps below, and should enable making prediction with the small GraphCast model on 1 deg resolution data for 4 steps."
      ]
    },
    {
      "cell_type": "code",
      "source": [
        "# @title Create wrapper around main Graphcast class\n",
        "# Keeping the unwrapped wrapper allows for saved instances to be extracted from the initialisation. e.g. self._latent_mesh_nodes\n",
        "\n",
        "def construct_wrapped_graphcast(model_config, task_config, keep_unwrapped_function=False): # option to use unwrapped version of GC class to extract other variables\n",
        "    core_predictor = graphcast.GraphCast(model_config, task_config)\n",
        "\n",
        "    predictor = casting.Bfloat16Cast(core_predictor)\n",
        "    predictor = normalization.InputsAndResiduals(\n",
        "        predictor,\n",
        "        diffs_stddev_by_level=diffs_stddev_by_level,\n",
        "        mean_by_level=mean_by_level,\n",
        "        stddev_by_level=stddev_by_level\n",
        "    )\n",
        "    predictor = autoregressive.Predictor(predictor, gradient_checkpointing=True)\n",
        "\n",
        "    if keep_unwrapped_function:\n",
        "        return predictor, core_predictor  # Return both\n",
        "    else:\n",
        "        return predictor\n"
      ],
      "metadata": {
        "id": "jp4v6ECIZcM_"
      },
      "execution_count": null,
      "outputs": []
    },
    {
      "cell_type": "code",
      "source": [
        "@hk.transform_with_state\n",
        "def run_forward(model_config, task_config, inputs, targets_template, forcings):\n",
        "    predictor, core_predictor = construct_wrapped_graphcast(\n",
        "        model_config, task_config, keep_unwrapped_function=True\n",
        "    )\n",
        "\n",
        "    prediction = predictor(inputs, targets_template=targets_template, forcings=forcings)\n",
        "\n",
        "    return prediction\n"
      ],
      "metadata": {
        "id": "nN1xWJqLZcQH"
      },
      "execution_count": null,
      "outputs": []
    },
    {
      "cell_type": "code",
      "source": [
        "# since the model is stateless, need to remind model each time of model_config, task_config, params and state. This wrapper means one doesn't have to type this into every function.\n",
        "\n",
        "def with_configs(fn):\n",
        "  return functools.partial(\n",
        "      fn, model_config=model_config, task_config=task_config)\n",
        "\n",
        "def with_params(fn):\n",
        "  return functools.partial(fn, params=params, state=state)\n"
      ],
      "metadata": {
        "id": "MATh6qHYgYnv"
      },
      "execution_count": null,
      "outputs": []
    },
    {
      "cell_type": "code",
      "source": [
        "# initialise model. Does one pass through which creates graphs and gnn structure. Params and state used for running model.\n",
        "params, state = run_forward.init(\n",
        "           jax.random.PRNGKey(0),\n",
        "           model_config=model_config, # could have used with_configs here but have typed it explicitly...\n",
        "           task_config=task_config,\n",
        "           inputs=train_inputs,\n",
        "           targets_template=train_targets,\n",
        "           forcings=train_forcings\n",
        "        )\n",
        "# prints latent_mesh_nodes and updated_latent_mesh_nodes"
      ],
      "metadata": {
        "id": "FbnmUf-Kv1dS"
      },
      "execution_count": null,
      "outputs": []
    },
    {
      "cell_type": "code",
      "source": [
        "run_forward = with_params((with_configs(\n",
        "    run_forward.apply)))"
      ],
      "metadata": {
        "id": "JIISd2M_f19e"
      },
      "execution_count": null,
      "outputs": []
    },
    {
      "cell_type": "code",
      "source": [
        "(output), new_state = run_forward(\n",
        "    rng=jax.random.PRNGKey(1),\n",
        "    inputs=train_inputs,\n",
        "    targets_template=train_targets,\n",
        "    forcings=train_forcings\n",
        ")"
      ],
      "metadata": {
        "id": "5kDkGzSUf7dv"
      },
      "execution_count": null,
      "outputs": []
    },
    {
      "cell_type": "code",
      "source": [
        "@hk.transform_with_state\n",
        "def get_latents(model_config, task_config, inputs, targets_template, forcings):\n",
        "\n",
        "    # Retrieve latent graphs from saved state\n",
        "    latent_graphs_m = hk.get_state(\"latent_graphs_m\", shape=None, dtype=None, init=lambda *_: None)\n",
        "    return latent_graphs_m"
      ],
      "metadata": {
        "id": "efEbVMUk2K0G"
      },
      "execution_count": null,
      "outputs": []
    },
    {
      "cell_type": "code",
      "source": [
        "# Apply function after run_forward ran:\n",
        "latents, _ = get_latents.apply(\n",
        "    params, state, rng=jax.random.PRNGKey(2),\n",
        "    model_config=model_config,\n",
        "    task_config=task_config,\n",
        "    inputs=train_inputs,\n",
        "    targets_template=train_targets,\n",
        "    forcings=train_forcings\n",
        ")"
      ],
      "metadata": {
        "id": "lmJAVP213FH8"
      },
      "execution_count": null,
      "outputs": []
    },
    {
      "cell_type": "code",
      "source": [
        "# @title Analysing extracted latent features:\n",
        "len(latents)"
      ],
      "metadata": {
        "id": "aUsseo8XeTYz"
      },
      "execution_count": null,
      "outputs": []
    },
    {
      "cell_type": "code",
      "source": [
        "node_features = latent_graph.nodes[\"mesh_nodes\"].features"
      ],
      "metadata": {
        "id": "R749sU9g7vT5"
      },
      "execution_count": null,
      "outputs": []
    },
    {
      "cell_type": "code",
      "source": [
        "edge_features = latent_graph.edges"
      ],
      "metadata": {
        "id": "_YxsdqpuY0PX"
      },
      "execution_count": null,
      "outputs": []
    },
    {
      "cell_type": "code",
      "source": [
        "node_features.shape"
      ],
      "metadata": {
        "id": "6uGV2ECb7w5z"
      },
      "execution_count": null,
      "outputs": []
    },
    {
      "cell_type": "code",
      "source": [
        "# Get the only key in the dict (or the one you want if there are many)\n",
        "key = list(edge_features.keys())[0]"
      ],
      "metadata": {
        "id": "lOBueJ7wY48y"
      },
      "execution_count": null,
      "outputs": []
    },
    {
      "cell_type": "code",
      "source": [
        "# Get the EdgeSet object\n",
        "edge_set = edge_features[key]\n",
        "print(edge_set)"
      ],
      "metadata": {
        "id": "p2V_LqGhZ3cR"
      },
      "execution_count": null,
      "outputs": []
    },
    {
      "cell_type": "code",
      "source": [
        "# Get the features array\n",
        "edge_features_ = edge_set.features\n",
        "print(edge_features_.shape)"
      ],
      "metadata": {
        "id": "PaCUMMq8Z3in"
      },
      "execution_count": null,
      "outputs": []
    },
    {
      "cell_type": "code",
      "source": [
        "for i, latent in enumerate(latents):\n",
        "    features = latent.nodes[\"mesh_nodes\"].features\n",
        "    print(f\"Step {i}: {features.shape}\")"
      ],
      "metadata": {
        "id": "kagQZrGt4Lo6"
      },
      "execution_count": null,
      "outputs": []
    },
    {
      "cell_type": "code",
      "source": [
        "# calculate activation of each node:\n",
        "activations = []\n",
        "\n",
        "for i, latent in enumerate(latents):\n",
        "    features = latent.nodes[\"mesh_nodes\"].features\n",
        "    features_squeeze = features.squeeze(axis=1)  # shape (2562, latent_dim)\n",
        "    l2_norms = np.linalg.norm(features_squeeze, axis=1)  # shape (2562,)\n",
        "    activations.append(l2_norms)  # store per-step activations\n",
        "    print(f\"Step {i}: {l2_norms.shape}\")"
      ],
      "metadata": {
        "id": "6FkqHHy63cI0"
      },
      "execution_count": null,
      "outputs": []
    },
    {
      "cell_type": "code",
      "source": [
        "# Next: plot activations on the grid, with placements according to mesh graph.\n",
        "# Now: load mesh grid (will have to have saved graphs in google drive)\n",
        "from google.colab import drive\n",
        "import pickle\n",
        "drive.mount('/content/drive/')\n",
        "\n",
        "with open(\"/content/drive/MyDrive/mesh_typedgraph.pkl\", \"rb\") as f:\n",
        "    mesh_graph = pickle.load(f)\n"
      ],
      "metadata": {
        "id": "mQM1SF0m4Y7k"
      },
      "execution_count": null,
      "outputs": []
    },
    {
      "cell_type": "code",
      "source": [
        "def cartesian_to_latlon(x, y, z):\n",
        "    lat = np.degrees(np.arcsin(x))        # latitude from x\n",
        "    lon = np.degrees(np.arctan2(z, y))    # longitude from y and z\n",
        "    lon = (lon + 360) % 360               # wrap longitude to [0, 360)\n",
        "    return lat, lon\n",
        "\n",
        "# Get mesh node positions (assume same for all time steps)\n",
        "mesh_features = mesh_graph.nodes[\"mesh_nodes\"].features  # shape: (2562, 3)\n",
        "x, y, z = mesh_features[:, 0], mesh_features[:, 1], mesh_features[:, 2]\n",
        "latitudes, longitudes = cartesian_to_latlon(x, y, z)\n",
        "\n",
        "# Plot using Cartopy\n",
        "fig = plt.figure(figsize=(10, 20))\n",
        "\n",
        "for i in range(5):\n",
        "    ax = plt.subplot(5, 1, i+1, projection=ccrs.PlateCarree())\n",
        "\n",
        "    # Add borders and coastlines\n",
        "    ax.add_feature(cfeature.BORDERS, edgecolor='black')\n",
        "    ax.add_feature(cfeature.COASTLINE, linewidth=0.5)\n",
        "\n",
        "    # Scatterplot of activations on mesh\n",
        "    sc = ax.scatter(\n",
        "        longitudes, latitudes,\n",
        "        c=activations[i],\n",
        "        cmap='Greens',\n",
        "        s=50,\n",
        "        alpha=0.7,\n",
        "        transform=ccrs.PlateCarree()\n",
        "    )\n",
        "\n",
        "    # Colorbar\n",
        "    cbar = plt.colorbar(sc, ax=ax, orientation='vertical', pad=0.02, shrink=0.7)\n",
        "    cbar.set_label('Activation Magnitude')\n",
        "\n",
        "    # Gridlines and labels\n",
        "    gl = ax.gridlines(draw_labels=True, linewidth=0.5, color='gray', alpha=0.5, linestyle='--')\n",
        "    gl.top_labels = False\n",
        "    gl.right_labels = False\n",
        "\n",
        "    ax.set_title(f\"Step {i} - Node Activation Heatmap\")\n",
        "\n",
        "plt.tight_layout()\n",
        "plt.savefig(\"node_activation_v1.pdf\")"
      ],
      "metadata": {
        "id": "HRjUuck64ZB8"
      },
      "execution_count": null,
      "outputs": []
    },
    {
      "cell_type": "code",
      "source": [
        "# Now plot the real data...\n",
        "len(output.data_vars)"
      ],
      "metadata": {
        "id": "5-LcDjIR4ZHG"
      },
      "execution_count": null,
      "outputs": []
    },
    {
      "cell_type": "code",
      "source": [
        "# create new train_inputs_plot xarray\n",
        "# Get list of first 10 variable names\n",
        "first_11_vars = list(train_inputs.data_vars)[:11]\n",
        "\n",
        "# Create a new dataset with only those variables\n",
        "train_inputs_subset = train_inputs[first_11_vars].copy()\n",
        "\n",
        "train_inputs_subset.data_vars\n",
        "\n",
        "# Assume train_inputs is already loaded\n",
        "\n",
        "variables = list(train_inputs_subset.data_vars)\n",
        "n_vars = len(variables)\n",
        "ncols = 4\n",
        "nrows = int(np.ceil(n_vars / ncols))\n",
        "\n",
        "# Use PlateCarree projection (standard lat-lon)\n",
        "projection = ccrs.PlateCarree()\n",
        "\n",
        "fig, axes = plt.subplots(nrows, ncols,\n",
        "                         figsize=(5 * ncols, 3.5 * nrows),\n",
        "                         subplot_kw={'projection': projection},\n",
        "                         constrained_layout=True)\n",
        "\n",
        "axes = axes.flatten()\n",
        "\n",
        "# Extract lat/lon\n",
        "lat = train_inputs.coords[\"lat\"].values\n",
        "lon = train_inputs.coords[\"lon\"].values\n",
        "lon_grid, lat_grid = np.meshgrid(lon, lat)\n",
        "\n",
        "for i, var_name in enumerate(variables):\n",
        "    ax = axes[i]\n",
        "\n",
        "    var_in = train_inputs_subset[var_name]\n",
        "    var_out = output[var_name]\n",
        "    var_sel_input = var_in.isel(batch=0, time=1)\n",
        "    var_sel_output = var_out.isel(batch=0, time=0)\n",
        "\n",
        "    if \"level\" in var_in.dims:\n",
        "        level_values = var_in.coords[\"level\"].values\n",
        "        level_index = int(np.argmin(np.abs(level_values - 500)))\n",
        "        var_sel_input = var_sel_input.isel(level=level_index)\n",
        "        var_sel_output = var_sel_output.isel(level=level_index)\n",
        "\n",
        "    data_2d_input = var_sel_input.values\n",
        "    data_2d_output = var_sel_output.values\n",
        "\n",
        "    # Compute symmetric vmin/vmax\n",
        "    diff = data_2d_output - data_2d_input\n",
        "    max_abs = np.nanmax(np.abs(diff))\n",
        "\n",
        "    # Plot data\n",
        "    im = ax.pcolormesh(lon_grid, lat_grid, diff,\n",
        "                       shading='auto', cmap='coolwarm', vmin=-max_abs, vmax=+max_abs,\n",
        "                       transform=ccrs.PlateCarree())\n",
        "\n",
        "    # Add coastlines and land\n",
        "    ax.coastlines(resolution='110m', linewidth=1)\n",
        "   # ax.add_feature(cfeature.BORDERS, linewidth=0.5)\n",
        "    ax.add_feature(cfeature.LAND, facecolor='none', edgecolor='black', linewidth=0.3)\n",
        "\n",
        "    ax.set_title(var_name)\n",
        "    ax.set_xticks([-180, -90, 0, 90, 180], crs=projection)\n",
        "    ax.set_yticks([-90, -45, 0, 45, 90], crs=projection)\n",
        "    ax.gridlines(draw_labels=False, linewidth=0.2)\n",
        "    plt.colorbar(im, ax=ax, shrink=0.7, orientation='horizontal')\n",
        "\n",
        "# Turn off unused subplots\n",
        "for j in range(n_vars, len(axes)):\n",
        "    axes[j].axis('off')\n",
        "\n",
        "plt.suptitle(\"2D Maps of differences between prediction and input data\", fontsize=16)\n",
        "plt.savefig(\"diff_v1.pdf\")\n"
      ],
      "metadata": {
        "id": "7LSIqpU74ZN0"
      },
      "execution_count": null,
      "outputs": []
    },
    {
      "cell_type": "code",
      "source": [],
      "metadata": {
        "id": "XJpA0I4KZcvp"
      },
      "execution_count": null,
      "outputs": []
    },
    {
      "cell_type": "code",
      "source": [],
      "metadata": {
        "id": "xeDnADGNZczo"
      },
      "execution_count": null,
      "outputs": []
    }
  ],
  "metadata": {
    "colab": {
      "private_outputs": true,
      "provenance": []
    },
    "kernelspec": {
      "display_name": "Python 3",
      "name": "python3"
    },
    "language_info": {
      "name": "python"
    }
  },
  "nbformat": 4,
  "nbformat_minor": 0
}